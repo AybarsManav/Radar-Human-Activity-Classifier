{
 "cells": [
  {
   "cell_type": "code",
   "execution_count": 1,
   "id": "b7e9f1cf",
   "metadata": {},
   "outputs": [],
   "source": [
    "import pandas as pd\n",
    "from sklearn.preprocessing import LabelEncoder, StandardScaler, MinMaxScaler\n",
    "from sklearn.svm import SVC\n",
    "from sklearn.pipeline import Pipeline\n",
    "from sklearn.model_selection import LeaveOneGroupOut, GridSearchCV, train_test_split\n",
    "from sklearn.metrics import classification_report\n",
    "import numpy as np\n",
    "from SVM_pipeline import SVM_Pipeline "
   ]
  },
  {
   "cell_type": "code",
   "execution_count": 2,
   "id": "df592574",
   "metadata": {},
   "outputs": [],
   "source": [
    "random_state = 42\n",
    "# Generate random data\n",
    "np.random.seed(random_state)\n",
    "n_samples = 120\n",
    "n_features = 2\n",
    "\n",
    "feature_columns = [f'feature_{i}' for i in range(n_features)]\n",
    "# Generate six clusters centered at different locations\n",
    "centers = [(-4, -4), (-2, 2), (0, 0), (2, -2), (4, 4), (2, 2)]\n",
    "samples_per_class = n_samples // 6\n",
    "\n",
    "X_list = []\n",
    "activities = []\n",
    "for i, center in enumerate(centers):\n",
    "    X_class = np.random.randn(samples_per_class, n_features) + np.array(center)\n",
    "    X_list.append(X_class)\n",
    "    activities.extend([i] * samples_per_class)\n",
    "\n",
    "X_random = np.vstack(X_list)\n",
    "activities = np.array(activities)\n",
    "\n",
    "# Assign subject_ids randomly\n",
    "subject_ids = np.random.randint(0, 6, size=n_samples)\n",
    "df = pd.DataFrame(X_random, columns=feature_columns)\n",
    "df['subject_id'] = subject_ids\n",
    "df['activity'] = activities"
   ]
  },
  {
   "cell_type": "code",
   "execution_count": 3,
   "id": "a55e2d84",
   "metadata": {},
   "outputs": [],
   "source": [
    "# 1. Load data\n",
    "# df = pd.read_csv('your_data.csv')\n",
    "X = df[feature_columns]\n",
    "y = df['activity']\n",
    "groups = df['subject_id']"
   ]
  },
  {
   "cell_type": "markdown",
   "id": "e6ee6ba9",
   "metadata": {},
   "source": [
    "Set up SVM pipeline by choosing hyperparameter grid and scaler. The hyperparameter selection uses leave-one-group-out strategy to decide on hyperparameters.\n"
   ]
  },
  {
   "cell_type": "code",
   "execution_count": 7,
   "id": "8205692f",
   "metadata": {},
   "outputs": [],
   "source": [
    "svm_pipeline = SVM_Pipeline()\n",
    "# Define the parameter grid for GridSearchCV\n",
    "param_grid = {\n",
    "    'scaler' : [StandardScaler(), MinMaxScaler(), None],\n",
    "    'sfs__k_features': [n_features],  # Select from 1 to all features\n",
    "    'svm__C': [0.1, 1, 10],\n",
    "    'svm__kernel': ['linear', 'rbf'],\n",
    "    'svm__gamma': ['scale', 'auto']\n",
    "}\n",
    "svm_pipeline.set_param_grid(param_grid)"
   ]
  },
  {
   "cell_type": "markdown",
   "id": "426fc4b8",
   "metadata": {},
   "source": [
    "Initialize and split the dataset.\n"
   ]
  },
  {
   "cell_type": "code",
   "execution_count": 8,
   "id": "716fdce0",
   "metadata": {},
   "outputs": [],
   "source": [
    "X_train, X_test, y_train, y_test, groups_train, groups_test \\\n",
    "= svm_pipeline.init_and_split_data(df, split_ratio=0.2, random_state=random_state)"
   ]
  },
  {
   "cell_type": "markdown",
   "id": "89dd0175",
   "metadata": {},
   "source": [
    "Conduct the gridsearch to find the best model."
   ]
  },
  {
   "cell_type": "code",
   "execution_count": 9,
   "id": "c2fcd446",
   "metadata": {},
   "outputs": [
    {
     "name": "stderr",
     "output_type": "stream",
     "text": [
      "c:\\Users\\Aybar\\anaconda3\\envs\\python-12\\Lib\\site-packages\\sklearn\\model_selection\\_split.py:86: UserWarning: The groups parameter is ignored by KFold\n",
      "  warnings.warn(\n"
     ]
    },
    {
     "name": "stdout",
     "output_type": "stream",
     "text": [
      "                                               params  mean_test_score  \\\n",
      "0   {'scaler': StandardScaler(), 'sfs__k_features'...         0.751053   \n",
      "1   {'scaler': StandardScaler(), 'sfs__k_features'...         0.531053   \n",
      "2   {'scaler': StandardScaler(), 'sfs__k_features'...         0.751053   \n",
      "3   {'scaler': StandardScaler(), 'sfs__k_features'...         0.531053   \n",
      "4   {'scaler': StandardScaler(), 'sfs__k_features'...         0.866316   \n",
      "5   {'scaler': StandardScaler(), 'sfs__k_features'...         0.845263   \n",
      "6   {'scaler': StandardScaler(), 'sfs__k_features'...         0.866316   \n",
      "7   {'scaler': StandardScaler(), 'sfs__k_features'...         0.845263   \n",
      "8   {'scaler': StandardScaler(), 'sfs__k_features'...         0.845263   \n",
      "9   {'scaler': StandardScaler(), 'sfs__k_features'...         0.865789   \n",
      "10  {'scaler': StandardScaler(), 'sfs__k_features'...         0.845263   \n",
      "11  {'scaler': StandardScaler(), 'sfs__k_features'...         0.865789   \n",
      "12  {'scaler': MinMaxScaler(), 'sfs__k_features': ...         0.155789   \n",
      "13  {'scaler': MinMaxScaler(), 'sfs__k_features': ...         0.531579   \n",
      "14  {'scaler': MinMaxScaler(), 'sfs__k_features': ...         0.155789   \n",
      "15  {'scaler': MinMaxScaler(), 'sfs__k_features': ...         0.155789   \n",
      "16  {'scaler': MinMaxScaler(), 'sfs__k_features': ...         0.552105   \n",
      "17  {'scaler': MinMaxScaler(), 'sfs__k_features': ...         0.845263   \n",
      "18  {'scaler': MinMaxScaler(), 'sfs__k_features': ...         0.552105   \n",
      "19  {'scaler': MinMaxScaler(), 'sfs__k_features': ...         0.562105   \n",
      "20  {'scaler': MinMaxScaler(), 'sfs__k_features': ...         0.845263   \n",
      "21  {'scaler': MinMaxScaler(), 'sfs__k_features': ...         0.865789   \n",
      "22  {'scaler': MinMaxScaler(), 'sfs__k_features': ...         0.845263   \n",
      "23  {'scaler': MinMaxScaler(), 'sfs__k_features': ...         0.855263   \n",
      "24  {'scaler': None, 'sfs__k_features': 2, 'svm__C...         0.866316   \n",
      "25  {'scaler': None, 'sfs__k_features': 2, 'svm__C...         0.531053   \n",
      "26  {'scaler': None, 'sfs__k_features': 2, 'svm__C...         0.866316   \n",
      "27  {'scaler': None, 'sfs__k_features': 2, 'svm__C...         0.344211   \n",
      "28  {'scaler': None, 'sfs__k_features': 2, 'svm__C...         0.845263   \n",
      "29  {'scaler': None, 'sfs__k_features': 2, 'svm__C...         0.845263   \n",
      "30  {'scaler': None, 'sfs__k_features': 2, 'svm__C...         0.845263   \n",
      "31  {'scaler': None, 'sfs__k_features': 2, 'svm__C...         0.823684   \n",
      "32  {'scaler': None, 'sfs__k_features': 2, 'svm__C...         0.907368   \n",
      "33  {'scaler': None, 'sfs__k_features': 2, 'svm__C...         0.844737   \n",
      "34  {'scaler': None, 'sfs__k_features': 2, 'svm__C...         0.907368   \n",
      "35  {'scaler': None, 'sfs__k_features': 2, 'svm__C...         0.802632   \n",
      "\n",
      "    std_test_score  rank_test_score  \n",
      "0         0.086026               24  \n",
      "1         0.088578               30  \n",
      "2         0.086026               24  \n",
      "3         0.088578               30  \n",
      "4         0.091863                3  \n",
      "5         0.094947               11  \n",
      "6         0.091863                3  \n",
      "7         0.094947               11  \n",
      "8         0.082455               11  \n",
      "9         0.074618                7  \n",
      "10        0.082455               11  \n",
      "11        0.074618                7  \n",
      "12        0.114423               34  \n",
      "13        0.078772               29  \n",
      "14        0.114423               34  \n",
      "15        0.114423               34  \n",
      "16        0.078072               27  \n",
      "17        0.094947               11  \n",
      "18        0.078072               27  \n",
      "19        0.073111               26  \n",
      "20        0.088921               11  \n",
      "21        0.081706                7  \n",
      "22        0.088921               11  \n",
      "23        0.073496               10  \n",
      "24        0.091863                3  \n",
      "25        0.088578               30  \n",
      "26        0.091863                3  \n",
      "27        0.172375               33  \n",
      "28        0.082455               11  \n",
      "29        0.094947               11  \n",
      "30        0.082455               11  \n",
      "31        0.068421               22  \n",
      "32        0.066374                1  \n",
      "33        0.062497               21  \n",
      "34        0.066374                1  \n",
      "35        0.048524               23  \n"
     ]
    },
    {
     "data": {
      "application/vnd.microsoft.datawrangler.viewer.v0+json": {
       "columns": [
        {
         "name": "index",
         "rawType": "int64",
         "type": "integer"
        },
        {
         "name": "params",
         "rawType": "object",
         "type": "unknown"
        },
        {
         "name": "mean_test_score",
         "rawType": "float64",
         "type": "float"
        },
        {
         "name": "std_test_score",
         "rawType": "float64",
         "type": "float"
        },
        {
         "name": "rank_test_score",
         "rawType": "int32",
         "type": "integer"
        }
       ],
       "ref": "959c0b26-8e5c-419d-b29a-baae8d2fb696",
       "rows": [
        [
         "0",
         "{'scaler': StandardScaler(), 'sfs__k_features': 2, 'svm__C': 0.1, 'svm__gamma': 'scale', 'svm__kernel': 'linear'}",
         "0.7510526315789474",
         "0.08602647276635546",
         "24"
        ],
        [
         "1",
         "{'scaler': StandardScaler(), 'sfs__k_features': 2, 'svm__C': 0.1, 'svm__gamma': 'scale', 'svm__kernel': 'rbf'}",
         "0.5310526315789473",
         "0.08857755573225864",
         "30"
        ],
        [
         "2",
         "{'scaler': StandardScaler(), 'sfs__k_features': 2, 'svm__C': 0.1, 'svm__gamma': 'auto', 'svm__kernel': 'linear'}",
         "0.7510526315789474",
         "0.08602647276635546",
         "24"
        ],
        [
         "3",
         "{'scaler': StandardScaler(), 'sfs__k_features': 2, 'svm__C': 0.1, 'svm__gamma': 'auto', 'svm__kernel': 'rbf'}",
         "0.5310526315789473",
         "0.08857755573225864",
         "30"
        ],
        [
         "4",
         "{'scaler': StandardScaler(), 'sfs__k_features': 2, 'svm__C': 1, 'svm__gamma': 'scale', 'svm__kernel': 'linear'}",
         "0.8663157894736842",
         "0.09186283886009024",
         "3"
        ],
        [
         "5",
         "{'scaler': StandardScaler(), 'sfs__k_features': 2, 'svm__C': 1, 'svm__gamma': 'scale', 'svm__kernel': 'rbf'}",
         "0.8452631578947368",
         "0.09494713502130257",
         "11"
        ],
        [
         "6",
         "{'scaler': StandardScaler(), 'sfs__k_features': 2, 'svm__C': 1, 'svm__gamma': 'auto', 'svm__kernel': 'linear'}",
         "0.8663157894736842",
         "0.09186283886009024",
         "3"
        ],
        [
         "7",
         "{'scaler': StandardScaler(), 'sfs__k_features': 2, 'svm__C': 1, 'svm__gamma': 'auto', 'svm__kernel': 'rbf'}",
         "0.8452631578947368",
         "0.09494713502130257",
         "11"
        ],
        [
         "8",
         "{'scaler': StandardScaler(), 'sfs__k_features': 2, 'svm__C': 10, 'svm__gamma': 'scale', 'svm__kernel': 'linear'}",
         "0.8452631578947368",
         "0.0824553938002785",
         "11"
        ],
        [
         "9",
         "{'scaler': StandardScaler(), 'sfs__k_features': 2, 'svm__C': 10, 'svm__gamma': 'scale', 'svm__kernel': 'rbf'}",
         "0.8657894736842104",
         "0.07461814146714643",
         "7"
        ],
        [
         "10",
         "{'scaler': StandardScaler(), 'sfs__k_features': 2, 'svm__C': 10, 'svm__gamma': 'auto', 'svm__kernel': 'linear'}",
         "0.8452631578947368",
         "0.0824553938002785",
         "11"
        ],
        [
         "11",
         "{'scaler': StandardScaler(), 'sfs__k_features': 2, 'svm__C': 10, 'svm__gamma': 'auto', 'svm__kernel': 'rbf'}",
         "0.8657894736842104",
         "0.07461814146714643",
         "7"
        ],
        [
         "12",
         "{'scaler': MinMaxScaler(), 'sfs__k_features': 2, 'svm__C': 0.1, 'svm__gamma': 'scale', 'svm__kernel': 'linear'}",
         "0.15578947368421053",
         "0.11442255361432582",
         "34"
        ],
        [
         "13",
         "{'scaler': MinMaxScaler(), 'sfs__k_features': 2, 'svm__C': 0.1, 'svm__gamma': 'scale', 'svm__kernel': 'rbf'}",
         "0.5315789473684209",
         "0.07877173445839877",
         "29"
        ],
        [
         "14",
         "{'scaler': MinMaxScaler(), 'sfs__k_features': 2, 'svm__C': 0.1, 'svm__gamma': 'auto', 'svm__kernel': 'linear'}",
         "0.15578947368421053",
         "0.11442255361432582",
         "34"
        ],
        [
         "15",
         "{'scaler': MinMaxScaler(), 'sfs__k_features': 2, 'svm__C': 0.1, 'svm__gamma': 'auto', 'svm__kernel': 'rbf'}",
         "0.15578947368421053",
         "0.11442255361432582",
         "34"
        ],
        [
         "16",
         "{'scaler': MinMaxScaler(), 'sfs__k_features': 2, 'svm__C': 1, 'svm__gamma': 'scale', 'svm__kernel': 'linear'}",
         "0.5521052631578948",
         "0.07807234375068911",
         "27"
        ],
        [
         "17",
         "{'scaler': MinMaxScaler(), 'sfs__k_features': 2, 'svm__C': 1, 'svm__gamma': 'scale', 'svm__kernel': 'rbf'}",
         "0.8452631578947368",
         "0.09494713502130257",
         "11"
        ],
        [
         "18",
         "{'scaler': MinMaxScaler(), 'sfs__k_features': 2, 'svm__C': 1, 'svm__gamma': 'auto', 'svm__kernel': 'linear'}",
         "0.5521052631578948",
         "0.07807234375068911",
         "27"
        ],
        [
         "19",
         "{'scaler': MinMaxScaler(), 'sfs__k_features': 2, 'svm__C': 1, 'svm__gamma': 'auto', 'svm__kernel': 'rbf'}",
         "0.5621052631578948",
         "0.07311054885972773",
         "26"
        ],
        [
         "20",
         "{'scaler': MinMaxScaler(), 'sfs__k_features': 2, 'svm__C': 10, 'svm__gamma': 'scale', 'svm__kernel': 'linear'}",
         "0.8452631578947368",
         "0.08892089297660159",
         "11"
        ],
        [
         "21",
         "{'scaler': MinMaxScaler(), 'sfs__k_features': 2, 'svm__C': 10, 'svm__gamma': 'scale', 'svm__kernel': 'rbf'}",
         "0.8657894736842104",
         "0.08170618261189484",
         "7"
        ],
        [
         "22",
         "{'scaler': MinMaxScaler(), 'sfs__k_features': 2, 'svm__C': 10, 'svm__gamma': 'auto', 'svm__kernel': 'linear'}",
         "0.8452631578947368",
         "0.08892089297660159",
         "11"
        ],
        [
         "23",
         "{'scaler': MinMaxScaler(), 'sfs__k_features': 2, 'svm__C': 10, 'svm__gamma': 'auto', 'svm__kernel': 'rbf'}",
         "0.8552631578947368",
         "0.07349600023036283",
         "10"
        ],
        [
         "24",
         "{'scaler': None, 'sfs__k_features': 2, 'svm__C': 0.1, 'svm__gamma': 'scale', 'svm__kernel': 'linear'}",
         "0.8663157894736842",
         "0.09186283886009024",
         "3"
        ],
        [
         "25",
         "{'scaler': None, 'sfs__k_features': 2, 'svm__C': 0.1, 'svm__gamma': 'scale', 'svm__kernel': 'rbf'}",
         "0.5310526315789473",
         "0.08857755573225864",
         "30"
        ],
        [
         "26",
         "{'scaler': None, 'sfs__k_features': 2, 'svm__C': 0.1, 'svm__gamma': 'auto', 'svm__kernel': 'linear'}",
         "0.8663157894736842",
         "0.09186283886009024",
         "3"
        ],
        [
         "27",
         "{'scaler': None, 'sfs__k_features': 2, 'svm__C': 0.1, 'svm__gamma': 'auto', 'svm__kernel': 'rbf'}",
         "0.34421052631578947",
         "0.172374648340705",
         "33"
        ],
        [
         "28",
         "{'scaler': None, 'sfs__k_features': 2, 'svm__C': 1, 'svm__gamma': 'scale', 'svm__kernel': 'linear'}",
         "0.8452631578947368",
         "0.0824553938002785",
         "11"
        ],
        [
         "29",
         "{'scaler': None, 'sfs__k_features': 2, 'svm__C': 1, 'svm__gamma': 'scale', 'svm__kernel': 'rbf'}",
         "0.8452631578947368",
         "0.09494713502130257",
         "11"
        ],
        [
         "30",
         "{'scaler': None, 'sfs__k_features': 2, 'svm__C': 1, 'svm__gamma': 'auto', 'svm__kernel': 'linear'}",
         "0.8452631578947368",
         "0.0824553938002785",
         "11"
        ],
        [
         "31",
         "{'scaler': None, 'sfs__k_features': 2, 'svm__C': 1, 'svm__gamma': 'auto', 'svm__kernel': 'rbf'}",
         "0.8236842105263158",
         "0.06842105263157892",
         "22"
        ],
        [
         "32",
         "{'scaler': None, 'sfs__k_features': 2, 'svm__C': 10, 'svm__gamma': 'scale', 'svm__kernel': 'linear'}",
         "0.9073684210526316",
         "0.0663742432439345",
         "1"
        ],
        [
         "33",
         "{'scaler': None, 'sfs__k_features': 2, 'svm__C': 10, 'svm__gamma': 'scale', 'svm__kernel': 'rbf'}",
         "0.844736842105263",
         "0.06249653730019956",
         "21"
        ],
        [
         "34",
         "{'scaler': None, 'sfs__k_features': 2, 'svm__C': 10, 'svm__gamma': 'auto', 'svm__kernel': 'linear'}",
         "0.9073684210526316",
         "0.0663742432439345",
         "1"
        ],
        [
         "35",
         "{'scaler': None, 'sfs__k_features': 2, 'svm__C': 10, 'svm__gamma': 'auto', 'svm__kernel': 'rbf'}",
         "0.8026315789473685",
         "0.048523918196278354",
         "23"
        ]
       ],
       "shape": {
        "columns": 4,
        "rows": 36
       }
      },
      "text/html": [
       "<div>\n",
       "<style scoped>\n",
       "    .dataframe tbody tr th:only-of-type {\n",
       "        vertical-align: middle;\n",
       "    }\n",
       "\n",
       "    .dataframe tbody tr th {\n",
       "        vertical-align: top;\n",
       "    }\n",
       "\n",
       "    .dataframe thead th {\n",
       "        text-align: right;\n",
       "    }\n",
       "</style>\n",
       "<table border=\"1\" class=\"dataframe\">\n",
       "  <thead>\n",
       "    <tr style=\"text-align: right;\">\n",
       "      <th></th>\n",
       "      <th>params</th>\n",
       "      <th>mean_test_score</th>\n",
       "      <th>std_test_score</th>\n",
       "      <th>rank_test_score</th>\n",
       "    </tr>\n",
       "  </thead>\n",
       "  <tbody>\n",
       "    <tr>\n",
       "      <th>0</th>\n",
       "      <td>{'scaler': StandardScaler(), 'sfs__k_features'...</td>\n",
       "      <td>0.751053</td>\n",
       "      <td>0.086026</td>\n",
       "      <td>24</td>\n",
       "    </tr>\n",
       "    <tr>\n",
       "      <th>1</th>\n",
       "      <td>{'scaler': StandardScaler(), 'sfs__k_features'...</td>\n",
       "      <td>0.531053</td>\n",
       "      <td>0.088578</td>\n",
       "      <td>30</td>\n",
       "    </tr>\n",
       "    <tr>\n",
       "      <th>2</th>\n",
       "      <td>{'scaler': StandardScaler(), 'sfs__k_features'...</td>\n",
       "      <td>0.751053</td>\n",
       "      <td>0.086026</td>\n",
       "      <td>24</td>\n",
       "    </tr>\n",
       "    <tr>\n",
       "      <th>3</th>\n",
       "      <td>{'scaler': StandardScaler(), 'sfs__k_features'...</td>\n",
       "      <td>0.531053</td>\n",
       "      <td>0.088578</td>\n",
       "      <td>30</td>\n",
       "    </tr>\n",
       "    <tr>\n",
       "      <th>4</th>\n",
       "      <td>{'scaler': StandardScaler(), 'sfs__k_features'...</td>\n",
       "      <td>0.866316</td>\n",
       "      <td>0.091863</td>\n",
       "      <td>3</td>\n",
       "    </tr>\n",
       "    <tr>\n",
       "      <th>5</th>\n",
       "      <td>{'scaler': StandardScaler(), 'sfs__k_features'...</td>\n",
       "      <td>0.845263</td>\n",
       "      <td>0.094947</td>\n",
       "      <td>11</td>\n",
       "    </tr>\n",
       "    <tr>\n",
       "      <th>6</th>\n",
       "      <td>{'scaler': StandardScaler(), 'sfs__k_features'...</td>\n",
       "      <td>0.866316</td>\n",
       "      <td>0.091863</td>\n",
       "      <td>3</td>\n",
       "    </tr>\n",
       "    <tr>\n",
       "      <th>7</th>\n",
       "      <td>{'scaler': StandardScaler(), 'sfs__k_features'...</td>\n",
       "      <td>0.845263</td>\n",
       "      <td>0.094947</td>\n",
       "      <td>11</td>\n",
       "    </tr>\n",
       "    <tr>\n",
       "      <th>8</th>\n",
       "      <td>{'scaler': StandardScaler(), 'sfs__k_features'...</td>\n",
       "      <td>0.845263</td>\n",
       "      <td>0.082455</td>\n",
       "      <td>11</td>\n",
       "    </tr>\n",
       "    <tr>\n",
       "      <th>9</th>\n",
       "      <td>{'scaler': StandardScaler(), 'sfs__k_features'...</td>\n",
       "      <td>0.865789</td>\n",
       "      <td>0.074618</td>\n",
       "      <td>7</td>\n",
       "    </tr>\n",
       "    <tr>\n",
       "      <th>10</th>\n",
       "      <td>{'scaler': StandardScaler(), 'sfs__k_features'...</td>\n",
       "      <td>0.845263</td>\n",
       "      <td>0.082455</td>\n",
       "      <td>11</td>\n",
       "    </tr>\n",
       "    <tr>\n",
       "      <th>11</th>\n",
       "      <td>{'scaler': StandardScaler(), 'sfs__k_features'...</td>\n",
       "      <td>0.865789</td>\n",
       "      <td>0.074618</td>\n",
       "      <td>7</td>\n",
       "    </tr>\n",
       "    <tr>\n",
       "      <th>12</th>\n",
       "      <td>{'scaler': MinMaxScaler(), 'sfs__k_features': ...</td>\n",
       "      <td>0.155789</td>\n",
       "      <td>0.114423</td>\n",
       "      <td>34</td>\n",
       "    </tr>\n",
       "    <tr>\n",
       "      <th>13</th>\n",
       "      <td>{'scaler': MinMaxScaler(), 'sfs__k_features': ...</td>\n",
       "      <td>0.531579</td>\n",
       "      <td>0.078772</td>\n",
       "      <td>29</td>\n",
       "    </tr>\n",
       "    <tr>\n",
       "      <th>14</th>\n",
       "      <td>{'scaler': MinMaxScaler(), 'sfs__k_features': ...</td>\n",
       "      <td>0.155789</td>\n",
       "      <td>0.114423</td>\n",
       "      <td>34</td>\n",
       "    </tr>\n",
       "    <tr>\n",
       "      <th>15</th>\n",
       "      <td>{'scaler': MinMaxScaler(), 'sfs__k_features': ...</td>\n",
       "      <td>0.155789</td>\n",
       "      <td>0.114423</td>\n",
       "      <td>34</td>\n",
       "    </tr>\n",
       "    <tr>\n",
       "      <th>16</th>\n",
       "      <td>{'scaler': MinMaxScaler(), 'sfs__k_features': ...</td>\n",
       "      <td>0.552105</td>\n",
       "      <td>0.078072</td>\n",
       "      <td>27</td>\n",
       "    </tr>\n",
       "    <tr>\n",
       "      <th>17</th>\n",
       "      <td>{'scaler': MinMaxScaler(), 'sfs__k_features': ...</td>\n",
       "      <td>0.845263</td>\n",
       "      <td>0.094947</td>\n",
       "      <td>11</td>\n",
       "    </tr>\n",
       "    <tr>\n",
       "      <th>18</th>\n",
       "      <td>{'scaler': MinMaxScaler(), 'sfs__k_features': ...</td>\n",
       "      <td>0.552105</td>\n",
       "      <td>0.078072</td>\n",
       "      <td>27</td>\n",
       "    </tr>\n",
       "    <tr>\n",
       "      <th>19</th>\n",
       "      <td>{'scaler': MinMaxScaler(), 'sfs__k_features': ...</td>\n",
       "      <td>0.562105</td>\n",
       "      <td>0.073111</td>\n",
       "      <td>26</td>\n",
       "    </tr>\n",
       "    <tr>\n",
       "      <th>20</th>\n",
       "      <td>{'scaler': MinMaxScaler(), 'sfs__k_features': ...</td>\n",
       "      <td>0.845263</td>\n",
       "      <td>0.088921</td>\n",
       "      <td>11</td>\n",
       "    </tr>\n",
       "    <tr>\n",
       "      <th>21</th>\n",
       "      <td>{'scaler': MinMaxScaler(), 'sfs__k_features': ...</td>\n",
       "      <td>0.865789</td>\n",
       "      <td>0.081706</td>\n",
       "      <td>7</td>\n",
       "    </tr>\n",
       "    <tr>\n",
       "      <th>22</th>\n",
       "      <td>{'scaler': MinMaxScaler(), 'sfs__k_features': ...</td>\n",
       "      <td>0.845263</td>\n",
       "      <td>0.088921</td>\n",
       "      <td>11</td>\n",
       "    </tr>\n",
       "    <tr>\n",
       "      <th>23</th>\n",
       "      <td>{'scaler': MinMaxScaler(), 'sfs__k_features': ...</td>\n",
       "      <td>0.855263</td>\n",
       "      <td>0.073496</td>\n",
       "      <td>10</td>\n",
       "    </tr>\n",
       "    <tr>\n",
       "      <th>24</th>\n",
       "      <td>{'scaler': None, 'sfs__k_features': 2, 'svm__C...</td>\n",
       "      <td>0.866316</td>\n",
       "      <td>0.091863</td>\n",
       "      <td>3</td>\n",
       "    </tr>\n",
       "    <tr>\n",
       "      <th>25</th>\n",
       "      <td>{'scaler': None, 'sfs__k_features': 2, 'svm__C...</td>\n",
       "      <td>0.531053</td>\n",
       "      <td>0.088578</td>\n",
       "      <td>30</td>\n",
       "    </tr>\n",
       "    <tr>\n",
       "      <th>26</th>\n",
       "      <td>{'scaler': None, 'sfs__k_features': 2, 'svm__C...</td>\n",
       "      <td>0.866316</td>\n",
       "      <td>0.091863</td>\n",
       "      <td>3</td>\n",
       "    </tr>\n",
       "    <tr>\n",
       "      <th>27</th>\n",
       "      <td>{'scaler': None, 'sfs__k_features': 2, 'svm__C...</td>\n",
       "      <td>0.344211</td>\n",
       "      <td>0.172375</td>\n",
       "      <td>33</td>\n",
       "    </tr>\n",
       "    <tr>\n",
       "      <th>28</th>\n",
       "      <td>{'scaler': None, 'sfs__k_features': 2, 'svm__C...</td>\n",
       "      <td>0.845263</td>\n",
       "      <td>0.082455</td>\n",
       "      <td>11</td>\n",
       "    </tr>\n",
       "    <tr>\n",
       "      <th>29</th>\n",
       "      <td>{'scaler': None, 'sfs__k_features': 2, 'svm__C...</td>\n",
       "      <td>0.845263</td>\n",
       "      <td>0.094947</td>\n",
       "      <td>11</td>\n",
       "    </tr>\n",
       "    <tr>\n",
       "      <th>30</th>\n",
       "      <td>{'scaler': None, 'sfs__k_features': 2, 'svm__C...</td>\n",
       "      <td>0.845263</td>\n",
       "      <td>0.082455</td>\n",
       "      <td>11</td>\n",
       "    </tr>\n",
       "    <tr>\n",
       "      <th>31</th>\n",
       "      <td>{'scaler': None, 'sfs__k_features': 2, 'svm__C...</td>\n",
       "      <td>0.823684</td>\n",
       "      <td>0.068421</td>\n",
       "      <td>22</td>\n",
       "    </tr>\n",
       "    <tr>\n",
       "      <th>32</th>\n",
       "      <td>{'scaler': None, 'sfs__k_features': 2, 'svm__C...</td>\n",
       "      <td>0.907368</td>\n",
       "      <td>0.066374</td>\n",
       "      <td>1</td>\n",
       "    </tr>\n",
       "    <tr>\n",
       "      <th>33</th>\n",
       "      <td>{'scaler': None, 'sfs__k_features': 2, 'svm__C...</td>\n",
       "      <td>0.844737</td>\n",
       "      <td>0.062497</td>\n",
       "      <td>21</td>\n",
       "    </tr>\n",
       "    <tr>\n",
       "      <th>34</th>\n",
       "      <td>{'scaler': None, 'sfs__k_features': 2, 'svm__C...</td>\n",
       "      <td>0.907368</td>\n",
       "      <td>0.066374</td>\n",
       "      <td>1</td>\n",
       "    </tr>\n",
       "    <tr>\n",
       "      <th>35</th>\n",
       "      <td>{'scaler': None, 'sfs__k_features': 2, 'svm__C...</td>\n",
       "      <td>0.802632</td>\n",
       "      <td>0.048524</td>\n",
       "      <td>23</td>\n",
       "    </tr>\n",
       "  </tbody>\n",
       "</table>\n",
       "</div>"
      ],
      "text/plain": [
       "                                               params  mean_test_score  \\\n",
       "0   {'scaler': StandardScaler(), 'sfs__k_features'...         0.751053   \n",
       "1   {'scaler': StandardScaler(), 'sfs__k_features'...         0.531053   \n",
       "2   {'scaler': StandardScaler(), 'sfs__k_features'...         0.751053   \n",
       "3   {'scaler': StandardScaler(), 'sfs__k_features'...         0.531053   \n",
       "4   {'scaler': StandardScaler(), 'sfs__k_features'...         0.866316   \n",
       "5   {'scaler': StandardScaler(), 'sfs__k_features'...         0.845263   \n",
       "6   {'scaler': StandardScaler(), 'sfs__k_features'...         0.866316   \n",
       "7   {'scaler': StandardScaler(), 'sfs__k_features'...         0.845263   \n",
       "8   {'scaler': StandardScaler(), 'sfs__k_features'...         0.845263   \n",
       "9   {'scaler': StandardScaler(), 'sfs__k_features'...         0.865789   \n",
       "10  {'scaler': StandardScaler(), 'sfs__k_features'...         0.845263   \n",
       "11  {'scaler': StandardScaler(), 'sfs__k_features'...         0.865789   \n",
       "12  {'scaler': MinMaxScaler(), 'sfs__k_features': ...         0.155789   \n",
       "13  {'scaler': MinMaxScaler(), 'sfs__k_features': ...         0.531579   \n",
       "14  {'scaler': MinMaxScaler(), 'sfs__k_features': ...         0.155789   \n",
       "15  {'scaler': MinMaxScaler(), 'sfs__k_features': ...         0.155789   \n",
       "16  {'scaler': MinMaxScaler(), 'sfs__k_features': ...         0.552105   \n",
       "17  {'scaler': MinMaxScaler(), 'sfs__k_features': ...         0.845263   \n",
       "18  {'scaler': MinMaxScaler(), 'sfs__k_features': ...         0.552105   \n",
       "19  {'scaler': MinMaxScaler(), 'sfs__k_features': ...         0.562105   \n",
       "20  {'scaler': MinMaxScaler(), 'sfs__k_features': ...         0.845263   \n",
       "21  {'scaler': MinMaxScaler(), 'sfs__k_features': ...         0.865789   \n",
       "22  {'scaler': MinMaxScaler(), 'sfs__k_features': ...         0.845263   \n",
       "23  {'scaler': MinMaxScaler(), 'sfs__k_features': ...         0.855263   \n",
       "24  {'scaler': None, 'sfs__k_features': 2, 'svm__C...         0.866316   \n",
       "25  {'scaler': None, 'sfs__k_features': 2, 'svm__C...         0.531053   \n",
       "26  {'scaler': None, 'sfs__k_features': 2, 'svm__C...         0.866316   \n",
       "27  {'scaler': None, 'sfs__k_features': 2, 'svm__C...         0.344211   \n",
       "28  {'scaler': None, 'sfs__k_features': 2, 'svm__C...         0.845263   \n",
       "29  {'scaler': None, 'sfs__k_features': 2, 'svm__C...         0.845263   \n",
       "30  {'scaler': None, 'sfs__k_features': 2, 'svm__C...         0.845263   \n",
       "31  {'scaler': None, 'sfs__k_features': 2, 'svm__C...         0.823684   \n",
       "32  {'scaler': None, 'sfs__k_features': 2, 'svm__C...         0.907368   \n",
       "33  {'scaler': None, 'sfs__k_features': 2, 'svm__C...         0.844737   \n",
       "34  {'scaler': None, 'sfs__k_features': 2, 'svm__C...         0.907368   \n",
       "35  {'scaler': None, 'sfs__k_features': 2, 'svm__C...         0.802632   \n",
       "\n",
       "    std_test_score  rank_test_score  \n",
       "0         0.086026               24  \n",
       "1         0.088578               30  \n",
       "2         0.086026               24  \n",
       "3         0.088578               30  \n",
       "4         0.091863                3  \n",
       "5         0.094947               11  \n",
       "6         0.091863                3  \n",
       "7         0.094947               11  \n",
       "8         0.082455               11  \n",
       "9         0.074618                7  \n",
       "10        0.082455               11  \n",
       "11        0.074618                7  \n",
       "12        0.114423               34  \n",
       "13        0.078772               29  \n",
       "14        0.114423               34  \n",
       "15        0.114423               34  \n",
       "16        0.078072               27  \n",
       "17        0.094947               11  \n",
       "18        0.078072               27  \n",
       "19        0.073111               26  \n",
       "20        0.088921               11  \n",
       "21        0.081706                7  \n",
       "22        0.088921               11  \n",
       "23        0.073496               10  \n",
       "24        0.091863                3  \n",
       "25        0.088578               30  \n",
       "26        0.091863                3  \n",
       "27        0.172375               33  \n",
       "28        0.082455               11  \n",
       "29        0.094947               11  \n",
       "30        0.082455               11  \n",
       "31        0.068421               22  \n",
       "32        0.066374                1  \n",
       "33        0.062497               21  \n",
       "34        0.066374                1  \n",
       "35        0.048524               23  "
      ]
     },
     "execution_count": 9,
     "metadata": {},
     "output_type": "execute_result"
    }
   ],
   "source": [
    "svm_pipeline.run_grid_search(X_train, y_train, groups_train)\n",
    "svm_pipeline.show_grid_search_results()"
   ]
  },
  {
   "cell_type": "code",
   "execution_count": 10,
   "id": "3535fed7",
   "metadata": {},
   "outputs": [
    {
     "name": "stdout",
     "output_type": "stream",
     "text": [
      "Best params: {'scaler': None, 'sfs__k_features': 2, 'svm__C': 10, 'svm__gamma': 'scale', 'svm__kernel': 'linear'}\n"
     ]
    },
    {
     "data": {
      "image/png": "[encoded data removed]",
      "text/plain": [
       "<Figure size 640x480 with 2 Axes>"
      ]
     },
     "metadata": {},
     "output_type": "display_data"
    },
    {
     "data": {
      "text/plain": [
       "{'0': {'precision': 1.0, 'recall': 1.0, 'f1-score': 1.0, 'support': 4.0},\n",
       " '1': {'precision': 1.0, 'recall': 1.0, 'f1-score': 1.0, 'support': 4.0},\n",
       " '2': {'precision': 1.0, 'recall': 1.0, 'f1-score': 1.0, 'support': 4.0},\n",
       " '3': {'precision': 1.0,\n",
       "  'recall': 0.75,\n",
       "  'f1-score': 0.8571428571428571,\n",
       "  'support': 4.0},\n",
       " '4': {'precision': 1.0,\n",
       "  'recall': 0.75,\n",
       "  'f1-score': 0.8571428571428571,\n",
       "  'support': 4.0},\n",
       " '5': {'precision': 0.6666666666666666,\n",
       "  'recall': 1.0,\n",
       "  'f1-score': 0.8,\n",
       "  'support': 4.0},\n",
       " 'accuracy': 0.9166666666666666,\n",
       " 'macro avg': {'precision': 0.9444444444444445,\n",
       "  'recall': 0.9166666666666666,\n",
       "  'f1-score': 0.919047619047619,\n",
       "  'support': 24.0},\n",
       " 'weighted avg': {'precision': 0.9444444444444445,\n",
       "  'recall': 0.9166666666666666,\n",
       "  'f1-score': 0.919047619047619,\n",
       "  'support': 24.0}}"
      ]
     },
     "execution_count": 10,
     "metadata": {},
     "output_type": "execute_result"
    }
   ],
   "source": [
    "# Evaluate the best model on the test set\n",
    "svm_pipeline.evaluate_model(X_test, y_test)"
   ]
  },
  {
   "cell_type": "code",
   "execution_count": 11,
   "id": "ac9eec96",
   "metadata": {},
   "outputs": [
    {
     "data": {
      "image/png": "[encoded data removed]",
      "text/plain": [
       "<Figure size 640x480 with 1 Axes>"
      ]
     },
     "metadata": {},
     "output_type": "display_data"
    }
   ],
   "source": [
    "# Plot learning curve to check overfitting\n",
    "svm_pipeline.plot_learning_curve(X_train, y_train)"
   ]
  },
  {
   "cell_type": "code",
   "execution_count": 11,
   "id": "5d8e67b3",
   "metadata": {},
   "outputs": [
    {
     "name": "stderr",
     "output_type": "stream",
     "text": [
      "c:\\Users\\Aybar\\anaconda3\\envs\\python-12\\Lib\\site-packages\\sklearn\\utils\\validation.py:2739: UserWarning: X does not have valid feature names, but StandardScaler was fitted with feature names\n",
      "  warnings.warn(\n"
     ]
    },
    {
     "data": {
      "image/png": "[encoded data removed]",
      "text/plain": [
       "<Figure size 800x600 with 1 Axes>"
      ]
     },
     "metadata": {},
     "output_type": "display_data"
    }
   ],
   "source": [
    "import matplotlib.pyplot as plt\n",
    "\n",
    "# Get best estimator from grid search\n",
    "best_svm = svm_pipeline.grid_search.best_estimator_\n",
    "\n",
    "# Create a mesh to plot decision boundary\n",
    "h = .02  # step size in the mesh\n",
    "x_min, x_max = X_train['feature_0'].min() - 1, X_train['feature_0'].max() + 1\n",
    "y_min, y_max = X_train['feature_1'].min() - 1, X_train['feature_1'].max() + 1\n",
    "xx, yy = np.meshgrid(np.arange(x_min, x_max, h),\n",
    "                     np.arange(y_min, y_max, h))\n",
    "\n",
    "# Predict on mesh\n",
    "Z = best_svm.predict(np.c_[xx.ravel(), yy.ravel()])\n",
    "Z = Z.reshape(xx.shape)\n",
    "\n",
    "plt.figure(figsize=(8, 6))\n",
    "plt.contourf(xx, yy, Z, alpha=0.3, cmap=plt.cm.Set3)\n",
    "\n",
    "# Plot the training points\n",
    "scatter = plt.scatter(X_test['feature_0'], X_test['feature_1'], c=y_test, cmap=plt.cm.Set1, edgecolor='k', s=40)\n",
    "plt.xlabel('feature_0')\n",
    "plt.ylabel('feature_1')\n",
    "plt.title('SVM Decision Boundary and Data Points')\n",
    "plt.legend(*scatter.legend_elements(), title=\"Classes\")\n",
    "plt.show()"
   ]
  }
 ],
 "metadata": {
  "kernelspec": {
   "display_name": "python-12",
   "language": "python",
   "name": "python3"
  },
  "language_info": {
   "codemirror_mode": {
    "name": "ipython",
    "version": 3
   },
   "file_extension": ".py",
   "mimetype": "text/x-python",
   "name": "python",
   "nbconvert_exporter": "python",
   "pygments_lexer": "ipython3",
   "version": "3.12.9"
  }
 },
 "nbformat": 4,
 "nbformat_minor": 5
}
